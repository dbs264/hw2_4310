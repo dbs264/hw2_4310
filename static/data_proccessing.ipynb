{
 "cells": [
  {
   "cell_type": "code",
   "execution_count": 1,
   "metadata": {},
   "outputs": [
    {
     "name": "stdout",
     "output_type": "stream",
     "text": [
      "                                                                                                           Medal_count\n",
      "Team                  ID     Name                                               Season Sex Sport   Medal              \n",
      "30. Februar           127384 Harald von Musil                                   Summer M   Sailing NA                0\n",
      "                      34666  Harald Fereberger                                  Summer M   Sailing NA                0\n",
      "A North American Team 131733 William Hayden Wright                              Summer M   Polo    Bronze            1\n",
      "                      33106  Jos Eustaquio Luis Francisco Escandn y Barrn       Summer M   Polo    Bronze            1\n",
      "                      33107  Jos Manuel Mara del Corazn de Jess Escandn y Barrn Summer M   Polo    Bronze            1\n",
      "...                                                                                                                ...\n",
      "rn-2                  33314  Axel Gustaf Estlander                              Summer M   Sailing NA                0\n",
      "                      40579  Carl-Oscar Girsn                                   Summer M   Sailing NA                0\n",
      "                      4244   Curt Magnus Wilhelm Andstn                         Summer M   Sailing NA                0\n",
      "                      4245   Jarl Oskar Wilhelm Andstn                          Summer M   Sailing NA                0\n",
      "                      56415  Bertel Jusln                                       Summer M   Sailing NA                0\n",
      "\n",
      "[159038 rows x 1 columns]\n"
     ]
    }
   ],
   "source": [
    "import csv\n",
    "import pandas\n",
    "\n",
    "with open(\"athlete_events.csv\", 'r') as file:\n",
    "    my_dict = csv.DictReader(file)\n",
    "\n",
    "    table = pandas.DataFrame(my_dict, columns= ['Team',\"ID\", 'Name', 'Season','Sex','Sport', 'Medal'])\n",
    "    \n",
    "    medal_list = []\n",
    "    for i in table[\"Medal\"]:\n",
    "        if i == \"NA\": \n",
    "            medal_list.append(0)\n",
    "        else:\n",
    "            medal_list.append(1)\n",
    "    \n",
    "    table[\"Medal_count\"] = medal_list\n",
    "\n",
    "    \n",
    "  \n",
    "    \n",
    "    new_table = table.pivot_table(index=['Team', 'ID', \"Name\", 'Season', 'Sex', \"Sport\", \"Medal\"], values=['Medal_count'], aggfunc='sum')\n",
    " \n",
    "    print(new_table)\n",
    "    new_table.to_csv(\"aggregated_athlete_events.csv\")\n",
    "        "
   ]
  },
  {
   "cell_type": "code",
   "execution_count": null,
   "metadata": {},
   "outputs": [],
   "source": []
  }
 ],
 "metadata": {
  "kernelspec": {
   "display_name": "Python 3",
   "language": "python",
   "name": "python3"
  },
  "language_info": {
   "codemirror_mode": {
    "name": "ipython",
    "version": 3
   },
   "file_extension": ".py",
   "mimetype": "text/x-python",
   "name": "python",
   "nbconvert_exporter": "python",
   "pygments_lexer": "ipython3",
   "version": "3.7.4"
  }
 },
 "nbformat": 4,
 "nbformat_minor": 2
}
