{
 "cells": [
  {
   "cell_type": "code",
   "execution_count": 5,
   "metadata": {},
   "outputs": [
    {
     "name": "stdout",
     "output_type": "stream",
     "text": [
      "                                                       Medal_count\n",
      "Team                  Season Sex Sport         Medal              \n",
      "30. Februar           Summer M   Sailing       NA                0\n",
      "A North American Team Summer M   Polo          Bronze            4\n",
      "Acipactli             Summer M   Sailing       NA                0\n",
      "Acturus               Summer M   Sailing       NA                0\n",
      "Afghanistan           Summer F   Athletics     NA                0\n",
      "...                                                            ...\n",
      "Zimbabwe              Summer M   Triathlon     NA                0\n",
      "                                 Weightlifting NA                0\n",
      "                      Winter M   Alpine Skiing NA                0\n",
      "Zut                   Summer M   Sailing       Silver            3\n",
      "rn-2                  Summer M   Sailing       NA                0\n",
      "\n",
      "[12118 rows x 1 columns]\n"
     ]
    }
   ],
   "source": [
    "import csv\n",
    "import pandas\n",
    "\n",
    "with open(\"athlete_events.csv\", 'r') as file:\n",
    "    my_dict = csv.DictReader(file)\n",
    "\n",
    "    table = pandas.DataFrame(my_dict, columns= ['Team',\"ID\", 'Name', 'Season','Sex','Sport', 'Medal'])\n",
    "    \n",
    "    medal_list = []\n",
    "    for i in table[\"Medal\"]:\n",
    "        if i == \"NA\": \n",
    "            medal_list.append(0)\n",
    "        else:\n",
    "            medal_list.append(1)\n",
    "    \n",
    "    table[\"Medal_count\"] = medal_list\n",
    "\n",
    "    \n",
    "  \n",
    "    \n",
    "    new_table = table.pivot_table(index=['Team', 'ID', \"Name\", 'Season', 'Sex', \"Sport\", \"Medal\"], values=['Medal_count'], aggfunc='sum')\n",
    " \n",
    "    print(new_table)\n",
    "    new_table.to_csv(\"aggregated_athlete_events.csv\")\n",
    "        "
   ]
  },
  {
   "cell_type": "code",
   "execution_count": null,
   "metadata": {},
   "outputs": [],
   "source": []
  }
 ],
 "metadata": {
  "kernelspec": {
   "display_name": "Python 3",
   "language": "python",
   "name": "python3"
  },
  "language_info": {
   "codemirror_mode": {
    "name": "ipython",
    "version": 3
   },
   "file_extension": ".py",
   "mimetype": "text/x-python",
   "name": "python",
   "nbconvert_exporter": "python",
   "pygments_lexer": "ipython3",
   "version": "3.7.4"
  }
 },
 "nbformat": 4,
 "nbformat_minor": 2
}
